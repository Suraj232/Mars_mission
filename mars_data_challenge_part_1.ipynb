{
 "cells": [
  {
   "cell_type": "code",
   "execution_count": 1,
   "id": "7dfdbf49",
   "metadata": {},
   "outputs": [],
   "source": [
    "from bs4 import BeautifulSoup\n",
    "from splinter import Browser\n",
    "from webdriver_manager.chrome import ChromeDriverManager"
   ]
  },
  {
   "cell_type": "code",
   "execution_count": 2,
   "id": "8c4d15bb",
   "metadata": {},
   "outputs": [
    {
     "name": "stderr",
     "output_type": "stream",
     "text": [
      "[WDM] - Downloading: 100%|████████████████████████████████████████████████████████| 6.46M/6.46M [00:00<00:00, 51.9MB/s]\n"
     ]
    }
   ],
   "source": [
    "executable_path= {'executable_path': ChromeDriverManager().install()}\n",
    "browser = Browser('chrome', **executable_path, headless=False)"
   ]
  },
  {
   "cell_type": "code",
   "execution_count": 3,
   "id": "2dc0fbfd",
   "metadata": {},
   "outputs": [],
   "source": [
    "url =\"https://redplanetscience.com/\""
   ]
  },
  {
   "cell_type": "code",
   "execution_count": 4,
   "id": "a28d640b",
   "metadata": {},
   "outputs": [],
   "source": [
    "browser.visit(url)"
   ]
  },
  {
   "cell_type": "code",
   "execution_count": 5,
   "id": "9f9df97a",
   "metadata": {},
   "outputs": [],
   "source": [
    "html = browser.html"
   ]
  },
  {
   "cell_type": "code",
   "execution_count": 6,
   "id": "c21df8f5",
   "metadata": {},
   "outputs": [],
   "source": [
    "soup = BeautifulSoup(html, 'html.parser')"
   ]
  },
  {
   "cell_type": "code",
   "execution_count": 26,
   "id": "5c398375",
   "metadata": {},
   "outputs": [],
   "source": [
    "Mars_data= []\n",
    "\n",
    "articles = soup.find_all('div', class_=\"list_text\")\n",
    "\n",
    "for a in articles:\n",
    "    info_dict = {}\n",
    "    info_dict[\"Title\"] = a.find('div', class_=\"content_title\").text\n",
    "    info_dict[\"Preview\"]= a.find('div', class_=\"article_teaser_body\").text\n",
    "\n",
    "    Mars_data.append(info_dict)\n",
    "    "
   ]
  },
  {
   "cell_type": "code",
   "execution_count": 27,
   "id": "455374dc",
   "metadata": {},
   "outputs": [
    {
     "data": {
      "text/plain": [
       "[{'Title': \"NASA's Mars 2020 Rover Closer to Getting Its Name\",\n",
       "  'Preview': \"155 students from across the U.S. have been chosen as semifinalists in NASA's essay contest to name the Mars 2020 rover, and see it launch from Cape Canaveral this July.\"},\n",
       " {'Title': \"Nine Finalists Chosen in NASA's Mars 2020 Rover Naming Contest\",\n",
       "  'Preview': \"Nine finalists have been chosen in the essay contest for K-12 students across U.S. to name NASA's next Mars rover. Now you can help by voting for your favorite. \"},\n",
       " {'Title': \"NASA's Mars Helicopter Attached to Mars 2020 Rover \",\n",
       "  'Preview': 'The helicopter will be first aircraft to perform flight tests on another planet.'},\n",
       " {'Title': \"From JPL's Mailroom to Mars and Beyond\",\n",
       "  'Preview': 'Bill Allen has thrived as the mechanical systems design lead for three Mars rover missions, but he got his start as a teenager sorting letters for the NASA center.'},\n",
       " {'Title': \"How NASA's Mars Helicopter Will Reach the Red Planet's Surface\",\n",
       "  'Preview': 'The small craft will seek to prove that powered, controlled flight is possible on another planet. But just getting it onto the surface of Mars will take a whole lot of ingenuity.'},\n",
       " {'Title': \"NASA's Curiosity Rover Finds an Ancient Oasis on Mars\",\n",
       "  'Preview': \"New evidence suggests salty, shallow ponds once dotted a Martian crater — a sign of the planet's drying climate.\"},\n",
       " {'Title': \"3 Things We've Learned From NASA's Mars InSight \",\n",
       "  'Preview': 'Scientists are finding new mysteries since the geophysics mission landed two years ago.'},\n",
       " {'Title': 'NASA, ULA Launch Mars 2020 Perseverance Rover Mission to Red Planet',\n",
       "  'Preview': \"The agency's Mars 2020 mission is on its way. It will land at Jezero Crater in about seven months, on Feb. 18, 2021. \"},\n",
       " {'Title': \"NASA's Curiosity Mars Rover Snaps Its Highest-Resolution Panorama Yet\",\n",
       "  'Preview': 'To go along with the stunning 1.8-billion-pixel image, a new video offers a sweeping view of the Red Planet.'},\n",
       " {'Title': \"Celebrate Mars Reconnaissance Orbiter's Views From Above\",\n",
       "  'Preview': 'Marking its 15th anniversary since launch, one of the oldest spacecraft at the Red Planet has provided glimpses of dust devils, avalanches, and more.'},\n",
       " {'Title': \"NASA's Mars Rover Drivers Need Your Help\",\n",
       "  'Preview': 'Using an online tool to label Martian terrain types, you can train an artificial intelligence algorithm that could improve the way engineers guide the Curiosity rover.'},\n",
       " {'Title': \"A Year of Surprising Science From NASA's InSight Mars Mission\",\n",
       "  'Preview': \"A batch of new papers summarizes the lander's findings above and below the surface of the Red Planet.\"},\n",
       " {'Title': \"NASA's Perseverance Rover 100 Days Out\",\n",
       "  'Preview': \"Mark your calendars: The agency's latest rover has only about 8,640,000 seconds to go before it touches down on the Red Planet, becoming history's next Mars car.\"},\n",
       " {'Title': 'Join NASA for the Launch of the Mars 2020 Perseverance Rover',\n",
       "  'Preview': 'No matter where you live, choose from a menu of activities to join NASA as we \"Countdown to Mars\" and launch the Perseverance rover to the Red Planet.'},\n",
       " {'Title': 'My Culture, My Voice',\n",
       "  'Preview': 'In honor of Hispanic Heritage Month, Christina Hernandez, an instrument engineer on the Mars 2020 mission, talks about her childhood and journey to NASA.'}]"
      ]
     },
     "execution_count": 27,
     "metadata": {},
     "output_type": "execute_result"
    }
   ],
   "source": [
    "Mars_data"
   ]
  },
  {
   "cell_type": "code",
   "execution_count": 28,
   "id": "f16b3cd0",
   "metadata": {},
   "outputs": [],
   "source": [
    "import pandas as pd"
   ]
  },
  {
   "cell_type": "code",
   "execution_count": 29,
   "id": "6657f324",
   "metadata": {},
   "outputs": [
    {
     "data": {
      "text/html": [
       "<div>\n",
       "<style scoped>\n",
       "    .dataframe tbody tr th:only-of-type {\n",
       "        vertical-align: middle;\n",
       "    }\n",
       "\n",
       "    .dataframe tbody tr th {\n",
       "        vertical-align: top;\n",
       "    }\n",
       "\n",
       "    .dataframe thead th {\n",
       "        text-align: right;\n",
       "    }\n",
       "</style>\n",
       "<table border=\"1\" class=\"dataframe\">\n",
       "  <thead>\n",
       "    <tr style=\"text-align: right;\">\n",
       "      <th></th>\n",
       "      <th>Title</th>\n",
       "      <th>Preview</th>\n",
       "    </tr>\n",
       "  </thead>\n",
       "  <tbody>\n",
       "    <tr>\n",
       "      <th>0</th>\n",
       "      <td>NASA's Mars 2020 Rover Closer to Getting Its Name</td>\n",
       "      <td>155 students from across the U.S. have been ch...</td>\n",
       "    </tr>\n",
       "    <tr>\n",
       "      <th>1</th>\n",
       "      <td>Nine Finalists Chosen in NASA's Mars 2020 Rove...</td>\n",
       "      <td>Nine finalists have been chosen in the essay c...</td>\n",
       "    </tr>\n",
       "    <tr>\n",
       "      <th>2</th>\n",
       "      <td>NASA's Mars Helicopter Attached to Mars 2020 R...</td>\n",
       "      <td>The helicopter will be first aircraft to perfo...</td>\n",
       "    </tr>\n",
       "    <tr>\n",
       "      <th>3</th>\n",
       "      <td>From JPL's Mailroom to Mars and Beyond</td>\n",
       "      <td>Bill Allen has thrived as the mechanical syste...</td>\n",
       "    </tr>\n",
       "    <tr>\n",
       "      <th>4</th>\n",
       "      <td>How NASA's Mars Helicopter Will Reach the Red ...</td>\n",
       "      <td>The small craft will seek to prove that powere...</td>\n",
       "    </tr>\n",
       "    <tr>\n",
       "      <th>5</th>\n",
       "      <td>NASA's Curiosity Rover Finds an Ancient Oasis ...</td>\n",
       "      <td>New evidence suggests salty, shallow ponds onc...</td>\n",
       "    </tr>\n",
       "    <tr>\n",
       "      <th>6</th>\n",
       "      <td>3 Things We've Learned From NASA's Mars InSight</td>\n",
       "      <td>Scientists are finding new mysteries since the...</td>\n",
       "    </tr>\n",
       "    <tr>\n",
       "      <th>7</th>\n",
       "      <td>NASA, ULA Launch Mars 2020 Perseverance Rover ...</td>\n",
       "      <td>The agency's Mars 2020 mission is on its way. ...</td>\n",
       "    </tr>\n",
       "    <tr>\n",
       "      <th>8</th>\n",
       "      <td>NASA's Curiosity Mars Rover Snaps Its Highest-...</td>\n",
       "      <td>To go along with the stunning 1.8-billion-pixe...</td>\n",
       "    </tr>\n",
       "    <tr>\n",
       "      <th>9</th>\n",
       "      <td>Celebrate Mars Reconnaissance Orbiter's Views ...</td>\n",
       "      <td>Marking its 15th anniversary since launch, one...</td>\n",
       "    </tr>\n",
       "    <tr>\n",
       "      <th>10</th>\n",
       "      <td>NASA's Mars Rover Drivers Need Your Help</td>\n",
       "      <td>Using an online tool to label Martian terrain ...</td>\n",
       "    </tr>\n",
       "    <tr>\n",
       "      <th>11</th>\n",
       "      <td>A Year of Surprising Science From NASA's InSig...</td>\n",
       "      <td>A batch of new papers summarizes the lander's ...</td>\n",
       "    </tr>\n",
       "    <tr>\n",
       "      <th>12</th>\n",
       "      <td>NASA's Perseverance Rover 100 Days Out</td>\n",
       "      <td>Mark your calendars: The agency's latest rover...</td>\n",
       "    </tr>\n",
       "    <tr>\n",
       "      <th>13</th>\n",
       "      <td>Join NASA for the Launch of the Mars 2020 Pers...</td>\n",
       "      <td>No matter where you live, choose from a menu o...</td>\n",
       "    </tr>\n",
       "    <tr>\n",
       "      <th>14</th>\n",
       "      <td>My Culture, My Voice</td>\n",
       "      <td>In honor of Hispanic Heritage Month, Christina...</td>\n",
       "    </tr>\n",
       "  </tbody>\n",
       "</table>\n",
       "</div>"
      ],
      "text/plain": [
       "                                                Title  \\\n",
       "0   NASA's Mars 2020 Rover Closer to Getting Its Name   \n",
       "1   Nine Finalists Chosen in NASA's Mars 2020 Rove...   \n",
       "2   NASA's Mars Helicopter Attached to Mars 2020 R...   \n",
       "3              From JPL's Mailroom to Mars and Beyond   \n",
       "4   How NASA's Mars Helicopter Will Reach the Red ...   \n",
       "5   NASA's Curiosity Rover Finds an Ancient Oasis ...   \n",
       "6    3 Things We've Learned From NASA's Mars InSight    \n",
       "7   NASA, ULA Launch Mars 2020 Perseverance Rover ...   \n",
       "8   NASA's Curiosity Mars Rover Snaps Its Highest-...   \n",
       "9   Celebrate Mars Reconnaissance Orbiter's Views ...   \n",
       "10           NASA's Mars Rover Drivers Need Your Help   \n",
       "11  A Year of Surprising Science From NASA's InSig...   \n",
       "12             NASA's Perseverance Rover 100 Days Out   \n",
       "13  Join NASA for the Launch of the Mars 2020 Pers...   \n",
       "14                               My Culture, My Voice   \n",
       "\n",
       "                                              Preview  \n",
       "0   155 students from across the U.S. have been ch...  \n",
       "1   Nine finalists have been chosen in the essay c...  \n",
       "2   The helicopter will be first aircraft to perfo...  \n",
       "3   Bill Allen has thrived as the mechanical syste...  \n",
       "4   The small craft will seek to prove that powere...  \n",
       "5   New evidence suggests salty, shallow ponds onc...  \n",
       "6   Scientists are finding new mysteries since the...  \n",
       "7   The agency's Mars 2020 mission is on its way. ...  \n",
       "8   To go along with the stunning 1.8-billion-pixe...  \n",
       "9   Marking its 15th anniversary since launch, one...  \n",
       "10  Using an online tool to label Martian terrain ...  \n",
       "11  A batch of new papers summarizes the lander's ...  \n",
       "12  Mark your calendars: The agency's latest rover...  \n",
       "13  No matter where you live, choose from a menu o...  \n",
       "14  In honor of Hispanic Heritage Month, Christina...  "
      ]
     },
     "execution_count": 29,
     "metadata": {},
     "output_type": "execute_result"
    }
   ],
   "source": [
    "Mars_df = pd.DataFrame(Mars_data)\n",
    "Mars_df\n",
    "\n"
   ]
  },
  {
   "cell_type": "code",
   "execution_count": 30,
   "id": "35324972",
   "metadata": {},
   "outputs": [
    {
     "data": {
      "text/html": [
       "<div>\n",
       "<style scoped>\n",
       "    .dataframe tbody tr th:only-of-type {\n",
       "        vertical-align: middle;\n",
       "    }\n",
       "\n",
       "    .dataframe tbody tr th {\n",
       "        vertical-align: top;\n",
       "    }\n",
       "\n",
       "    .dataframe thead th {\n",
       "        text-align: right;\n",
       "    }\n",
       "</style>\n",
       "<table border=\"1\" class=\"dataframe\">\n",
       "  <thead>\n",
       "    <tr style=\"text-align: right;\">\n",
       "      <th></th>\n",
       "      <th>Preview</th>\n",
       "    </tr>\n",
       "    <tr>\n",
       "      <th>Title</th>\n",
       "      <th></th>\n",
       "    </tr>\n",
       "  </thead>\n",
       "  <tbody>\n",
       "    <tr>\n",
       "      <th>NASA's Mars 2020 Rover Closer to Getting Its Name</th>\n",
       "      <td>155 students from across the U.S. have been ch...</td>\n",
       "    </tr>\n",
       "    <tr>\n",
       "      <th>Nine Finalists Chosen in NASA's Mars 2020 Rover Naming Contest</th>\n",
       "      <td>Nine finalists have been chosen in the essay c...</td>\n",
       "    </tr>\n",
       "    <tr>\n",
       "      <th>NASA's Mars Helicopter Attached to Mars 2020 Rover</th>\n",
       "      <td>The helicopter will be first aircraft to perfo...</td>\n",
       "    </tr>\n",
       "    <tr>\n",
       "      <th>From JPL's Mailroom to Mars and Beyond</th>\n",
       "      <td>Bill Allen has thrived as the mechanical syste...</td>\n",
       "    </tr>\n",
       "    <tr>\n",
       "      <th>How NASA's Mars Helicopter Will Reach the Red Planet's Surface</th>\n",
       "      <td>The small craft will seek to prove that powere...</td>\n",
       "    </tr>\n",
       "    <tr>\n",
       "      <th>NASA's Curiosity Rover Finds an Ancient Oasis on Mars</th>\n",
       "      <td>New evidence suggests salty, shallow ponds onc...</td>\n",
       "    </tr>\n",
       "    <tr>\n",
       "      <th>3 Things We've Learned From NASA's Mars InSight</th>\n",
       "      <td>Scientists are finding new mysteries since the...</td>\n",
       "    </tr>\n",
       "    <tr>\n",
       "      <th>NASA, ULA Launch Mars 2020 Perseverance Rover Mission to Red Planet</th>\n",
       "      <td>The agency's Mars 2020 mission is on its way. ...</td>\n",
       "    </tr>\n",
       "    <tr>\n",
       "      <th>NASA's Curiosity Mars Rover Snaps Its Highest-Resolution Panorama Yet</th>\n",
       "      <td>To go along with the stunning 1.8-billion-pixe...</td>\n",
       "    </tr>\n",
       "    <tr>\n",
       "      <th>Celebrate Mars Reconnaissance Orbiter's Views From Above</th>\n",
       "      <td>Marking its 15th anniversary since launch, one...</td>\n",
       "    </tr>\n",
       "    <tr>\n",
       "      <th>NASA's Mars Rover Drivers Need Your Help</th>\n",
       "      <td>Using an online tool to label Martian terrain ...</td>\n",
       "    </tr>\n",
       "    <tr>\n",
       "      <th>A Year of Surprising Science From NASA's InSight Mars Mission</th>\n",
       "      <td>A batch of new papers summarizes the lander's ...</td>\n",
       "    </tr>\n",
       "    <tr>\n",
       "      <th>NASA's Perseverance Rover 100 Days Out</th>\n",
       "      <td>Mark your calendars: The agency's latest rover...</td>\n",
       "    </tr>\n",
       "    <tr>\n",
       "      <th>Join NASA for the Launch of the Mars 2020 Perseverance Rover</th>\n",
       "      <td>No matter where you live, choose from a menu o...</td>\n",
       "    </tr>\n",
       "    <tr>\n",
       "      <th>My Culture, My Voice</th>\n",
       "      <td>In honor of Hispanic Heritage Month, Christina...</td>\n",
       "    </tr>\n",
       "  </tbody>\n",
       "</table>\n",
       "</div>"
      ],
      "text/plain": [
       "                                                                                              Preview\n",
       "Title                                                                                                \n",
       "NASA's Mars 2020 Rover Closer to Getting Its Name   155 students from across the U.S. have been ch...\n",
       "Nine Finalists Chosen in NASA's Mars 2020 Rover...  Nine finalists have been chosen in the essay c...\n",
       "NASA's Mars Helicopter Attached to Mars 2020 Ro...  The helicopter will be first aircraft to perfo...\n",
       "From JPL's Mailroom to Mars and Beyond              Bill Allen has thrived as the mechanical syste...\n",
       "How NASA's Mars Helicopter Will Reach the Red P...  The small craft will seek to prove that powere...\n",
       "NASA's Curiosity Rover Finds an Ancient Oasis o...  New evidence suggests salty, shallow ponds onc...\n",
       "3 Things We've Learned From NASA's Mars InSight     Scientists are finding new mysteries since the...\n",
       "NASA, ULA Launch Mars 2020 Perseverance Rover M...  The agency's Mars 2020 mission is on its way. ...\n",
       "NASA's Curiosity Mars Rover Snaps Its Highest-R...  To go along with the stunning 1.8-billion-pixe...\n",
       "Celebrate Mars Reconnaissance Orbiter's Views F...  Marking its 15th anniversary since launch, one...\n",
       "NASA's Mars Rover Drivers Need Your Help            Using an online tool to label Martian terrain ...\n",
       "A Year of Surprising Science From NASA's InSigh...  A batch of new papers summarizes the lander's ...\n",
       "NASA's Perseverance Rover 100 Days Out              Mark your calendars: The agency's latest rover...\n",
       "Join NASA for the Launch of the Mars 2020 Perse...  No matter where you live, choose from a menu o...\n",
       "My Culture, My Voice                                In honor of Hispanic Heritage Month, Christina..."
      ]
     },
     "execution_count": 30,
     "metadata": {},
     "output_type": "execute_result"
    }
   ],
   "source": [
    "Mars_df.set_index(\"Title\", inplace=True)\n",
    "Mars_df"
   ]
  },
  {
   "cell_type": "code",
   "execution_count": 33,
   "id": "1cc7724b",
   "metadata": {},
   "outputs": [],
   "source": [
    "Mars_df.to_json('mars_data.json')"
   ]
  },
  {
   "cell_type": "code",
   "execution_count": 34,
   "id": "67d3a731",
   "metadata": {},
   "outputs": [],
   "source": [
    "browser.quit()"
   ]
  },
  {
   "cell_type": "code",
   "execution_count": null,
   "id": "36d5d657",
   "metadata": {},
   "outputs": [],
   "source": []
  }
 ],
 "metadata": {
  "kernelspec": {
   "display_name": "Python 3 (ipykernel)",
   "language": "python",
   "name": "python3"
  },
  "language_info": {
   "codemirror_mode": {
    "name": "ipython",
    "version": 3
   },
   "file_extension": ".py",
   "mimetype": "text/x-python",
   "name": "python",
   "nbconvert_exporter": "python",
   "pygments_lexer": "ipython3",
   "version": "3.9.12"
  }
 },
 "nbformat": 4,
 "nbformat_minor": 5
}
